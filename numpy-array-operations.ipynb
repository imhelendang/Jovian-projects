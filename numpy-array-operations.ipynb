{
 "cells": [
  {
   "cell_type": "markdown",
   "metadata": {},
   "source": [
    "> ### **Assignment 2 - Numpy Array Operations** \n",
    ">\n",
    "> This assignment is part of the course [\"Data Analysis with Python: Zero to Pandas\"](http://zerotopandas.com). The objective of this assignment is to develop a solid understanding of Numpy array operations. In this assignment you will:\n",
    "> \n",
    "> 1. Pick 5 interesting Numpy array functions by going through the documentation: https://numpy.org/doc/stable/reference/routines.html \n",
    "> 2. Run and modify this Jupyter notebook to illustrate their usage (some explanation and 3 examples for each function). Use your imagination to come up with interesting and unique examples.\n",
    "> 3. Upload this notebook to your Jovian profile using `jovian.commit` and make a submission here: https://jovian.ml/learn/data-analysis-with-python-zero-to-pandas/assignment/assignment-2-numpy-array-operations\n",
    "> 4. (Optional) Share your notebook online (on Twitter, LinkedIn, Facebook) and on the community forum thread: https://jovian.ml/forum/t/assignment-2-numpy-array-operations-share-your-work/10575 . \n",
    "> 5. (Optional) Check out the notebooks [shared by other participants](https://jovian.ml/forum/t/assignment-2-numpy-array-operations-share-your-work/10575) and give feedback & appreciation.\n",
    ">\n",
    "> The recommended way to run this notebook is to click the \"Run\" button at the top of this page, and select \"Run on Binder\". This will run the notebook on mybinder.org, a free online service for running Jupyter notebooks.\n",
    ">\n",
    "> Try to give your notebook a catchy title & subtitle e.g. \"All about Numpy array operations\", \"5 Numpy functions you didn't know you needed\", \"A beginner's guide to broadcasting in Numpy\", \"Interesting ways to create Numpy arrays\", \"Trigonometic functions in Numpy\", \"How to use Python for Linear Algebra\" etc.\n",
    ">\n",
    "> **NOTE**: Remove this block of explanation text before submitting or sharing your notebook online - to make it more presentable.\n",
    "\n",
    "\n",
    "# NUMPY\n",
    "\n",
    "\n",
    "### Some interesting functions\n",
    "\n",
    "What is numpy? NumPy is the fundamental package for scientific computing in Python. It is a Python library that provides a multidimensional array object, various derived objects (such as masked arrays and matrices), and an assortment of routines for fast operations on arrays, including mathematical, logical, shape manipulation, sorting, selecting, I/O, discrete Fourier transforms, basic linear algebra, basic statistical operations, random simulation and much more.\n",
    "\n",
    "This notebook will exclusively explore 5 different functions that deprived from NumPy.\n",
    "\n",
    "- numpy.split(ary, indices_or_sections, axis=0)\n",
    "- numpy.shape(a)\n",
    "- numpy.resize(a, new_shape)\n",
    "- numpy.char.center(a, width, fillchar=' ')\n",
    "- numpy.promote_types(type1, type2) \n",
    "\n",
    "The recommended way to run this notebook is to click the \"Run\" button at the top of this page, and select \"Run on Binder\". This will run the notebook on mybinder.org, a free online service for running Jupyter notebooks."
   ]
  },
  {
   "cell_type": "code",
   "execution_count": 41,
   "metadata": {},
   "outputs": [],
   "source": [
    "!pip install jovian --upgrade -q"
   ]
  },
  {
   "cell_type": "code",
   "execution_count": 42,
   "metadata": {},
   "outputs": [],
   "source": [
    "import jovian"
   ]
  },
  {
   "cell_type": "code",
   "execution_count": 43,
   "metadata": {},
   "outputs": [
    {
     "data": {
      "application/javascript": [
       "window.require && require([\"base/js/namespace\"],function(Jupyter){Jupyter.notebook.save_checkpoint()})"
      ],
      "text/plain": [
       "<IPython.core.display.Javascript object>"
      ]
     },
     "metadata": {},
     "output_type": "display_data"
    },
    {
     "name": "stdout",
     "output_type": "stream",
     "text": [
      "[jovian] Updating notebook \"imhelendang/numpy-array-operations\" on https://jovian.com\u001b[0m\n",
      "[jovian] Committed successfully! https://jovian.com/imhelendang/numpy-array-operations\u001b[0m\n"
     ]
    },
    {
     "data": {
      "text/plain": [
       "'https://jovian.com/imhelendang/numpy-array-operations'"
      ]
     },
     "execution_count": 43,
     "metadata": {},
     "output_type": "execute_result"
    }
   ],
   "source": [
    "jovian.commit(project='numpy-array-operations')"
   ]
  },
  {
   "cell_type": "markdown",
   "metadata": {},
   "source": [
    "Let's begin by importing Numpy and listing out the functions covered in this notebook."
   ]
  },
  {
   "cell_type": "code",
   "execution_count": 44,
   "metadata": {},
   "outputs": [],
   "source": [
    "import numpy as np"
   ]
  },
  {
   "cell_type": "code",
   "execution_count": 45,
   "metadata": {},
   "outputs": [],
   "source": [
    "# List of functions explained \n",
    "x = np.arange(9.0) \n",
    "function1 = np.split(x, 3) # np.split() will return a list of sub-arrays as views into ary.\n",
    "\n",
    "function2 = np.shape(np.eye(3)) # returns the shape of the array or the elements of the shape tuple give the lengths of the corresponding array dimensions.\n",
    "\n",
    "a=np.array([[0,1],[2,3]])\n",
    "function3 = np.resize(a,(2,3)) # np.resize() will return the new array is formed from the data in the old array, repeated if necessary to fill out the required number of elements. The data are repeated iterating over the array in C-order.\n",
    "\n",
    "c = np.array(['a1b2','1b2a','b2a1','2a1b']); c\n",
    "function4 = np.char.center(c, width=9) # np.char.center() will return a copy of a with its elements centered in a string of length width.\n",
    "\n",
    "function5 = np.promote_types('f4', 'f8') # np.promote_type() will return the data type with the smallest size and smallest scalar kind to which both type1 and type2 may be safely cast. The returned data type is always considered “canonical”, this mainly means that the promoted dtype will always be in native byte order."
   ]
  },
  {
   "cell_type": "markdown",
   "metadata": {},
   "source": [
    "## Function 1 - np.split( )\n",
    "\n",
    "- Split an array into multiple sub-arrays as views into ary.\n",
    "\n",
    "\n",
    "- Syntax: numpy.split(ary, indices_or_sections, axis=0)\n",
    "    \n",
    "    \n",
    "    + 'ary' is the array to be divided into sub-arrays.\n",
    "\n",
    "    + 'indices_or_sections' is is an integer, N, the array will be divided into N equal arrays along axis. \n",
    "    \n",
    "        * But, if such a split is not possible, an error is raised (see NOTE below).\n",
    "        \n",
    "        * Meanwhile if indices_or_sections is a 1-D array of sorted integers, the entries indicate where along axis the array is split. For example, [2, 3] would, for axis=0, result in ary[:2] or ary[2:3] or ary[3:]. \n",
    "        \n",
    "        * And if an index exceeds the dimension of the array along axis, an empty sub-array is returned correspondingly.\n",
    "\n",
    "    + 'axis' is optional. The axis along which to split, default is 0.\n",
    "\n",
    "\n",
    "- RETURN: np.split() will return a list of sub-arrays as views into ary."
   ]
  },
  {
   "cell_type": "code",
   "execution_count": 46,
   "metadata": {},
   "outputs": [
    {
     "data": {
      "text/plain": [
       "[array([0., 1., 2.]), array([3., 4., 5.]), array([6., 7., 8.])]"
      ]
     },
     "execution_count": 46,
     "metadata": {},
     "output_type": "execute_result"
    }
   ],
   "source": [
    "# Example 1 \n",
    "x = np.arange(9.0)\n",
    "\n",
    "np.split(x, 3)"
   ]
  },
  {
   "cell_type": "markdown",
   "metadata": {},
   "source": [
    "The function splits the original array into 3 different arrays."
   ]
  },
  {
   "cell_type": "code",
   "execution_count": 47,
   "metadata": {},
   "outputs": [
    {
     "data": {
      "text/plain": [
       "[array([0., 1., 2.]),\n",
       " array([3., 4.]),\n",
       " array([5.]),\n",
       " array([6., 7.]),\n",
       " array([], dtype=float64)]"
      ]
     },
     "execution_count": 47,
     "metadata": {},
     "output_type": "execute_result"
    }
   ],
   "source": [
    "# Example 2 \n",
    "x = np.arange(8.0)\n",
    "\n",
    "np.split(x, [3, 5, 6, 10])"
   ]
  },
  {
   "cell_type": "markdown",
   "metadata": {},
   "source": [
    "Here, the indices_or_sections is a 1-D array of sorted integers, the entries indicate where along axis the array is split as mentioned.\n",
    "\n",
    "- What did the split function do? \n",
    "> It split the array into 5 parts, the first 3 elements, the next 2 elements, the next 1 element, the next 2 elements, and the last 0 elements.\n",
    "\n",
    "- Why did it return an array of 0 elements at the end?\n",
    "> Because the last index is 10, which is out of range of the array."
   ]
  },
  {
   "cell_type": "markdown",
   "metadata": {},
   "source": [
    "*NOTE ValueError*\n",
    "- If indices_or_sections is given as an integer, but a split does not result in equal division."
   ]
  },
  {
   "cell_type": "code",
   "execution_count": null,
   "metadata": {},
   "outputs": [
    {
     "data": {
      "application/javascript": [
       "window.require && require([\"base/js/namespace\"],function(Jupyter){Jupyter.notebook.save_checkpoint()})"
      ],
      "text/plain": [
       "<IPython.core.display.Javascript object>"
      ]
     },
     "metadata": {},
     "output_type": "display_data"
    }
   ],
   "source": [
    "jovian.commit()"
   ]
  },
  {
   "cell_type": "markdown",
   "metadata": {},
   "source": [
    "## Function 2 - np.shape( )\n",
    "\n",
    "- Syntax: numpy.shape(a)\n",
    "\n",
    "    + 'a' is a input array.\n",
    "    \n",
    "\n",
    "- RETURN: np.shape() returns the shape of the array or the elements of the shape tuple give the lengths of the corresponding array dimensions."
   ]
  },
  {
   "cell_type": "code",
   "execution_count": null,
   "metadata": {},
   "outputs": [],
   "source": [
    "# Example 1 \n",
    "np.shape(np.eye(3))"
   ]
  },
  {
   "cell_type": "markdown",
   "metadata": {},
   "source": [
    "Here, I use np,eye(3) to create a 3x3 identity matrix\n",
    "Thus, shape() is used to returns the dimensions of the matrix."
   ]
  },
  {
   "cell_type": "code",
   "execution_count": null,
   "metadata": {},
   "outputs": [],
   "source": [
    "# Example 2 \n",
    "a = np.array([(1, 2), (3, 4), (5, 6)],dtype=[('x', 'i4'), ('y', 'i4')])\n",
    "\n",
    "print(a)\n",
    "\n",
    "np.shape(a)"
   ]
  },
  {
   "cell_type": "markdown",
   "metadata": {},
   "source": [
    "*A little side note*: dtype is used to creat a structured array. A structured array is an array where each element is a tuple. That makes a an array of tuples. Each tuple has two elements. The first element is an integer and the second element is a string, the data type."
   ]
  },
  {
   "cell_type": "code",
   "execution_count": null,
   "metadata": {},
   "outputs": [],
   "source": [
    "jovian.commit()"
   ]
  },
  {
   "cell_type": "markdown",
   "metadata": {},
   "source": [
    "## Function 3 - np.resize( )\n",
    "\n",
    "- numpy.resize(a, new_shape) - where:\n",
    "\n",
    "\n",
    "    + 'a' is the array to be resized.\n",
    "\n",
    "    + 'new_shape' is int or tuple of int which basically is shape of resized array.\n",
    "    \n",
    "    + *NOTE*: If the new array is larger than the original array, then the new array is filled with repeated copies of a. Note that this behavior is different from a.resize(new_shape) which fills with zeros instead of repeated copies of a.\n",
    "\n",
    "\n",
    "- RETURN: np.resize() will return the new array is formed from the data in the old array, repeated if necessary to fill out the required number of elements. The data are repeated iterating over the array in C-order."
   ]
  },
  {
   "cell_type": "code",
   "execution_count": null,
   "metadata": {},
   "outputs": [],
   "source": [
    "# Example 1\n",
    "a=np.array([[0,1],[2,3]])\n",
    "\n",
    "np.resize(a,(2,3))"
   ]
  },
  {
   "cell_type": "markdown",
   "metadata": {},
   "source": [
    " - np.resize() will return a new array with the specified shape. If the new array is larger than the original array, then the new array is filled with repeated copies of a. \n",
    "\n",
    "- *Note* that this behavior is different from a.resize(new_shape) which fills with zeros instead of repeated copies of a.\n"
   ]
  },
  {
   "cell_type": "code",
   "execution_count": null,
   "metadata": {},
   "outputs": [],
   "source": [
    "# Example 2\n",
    "np.resize(a,(1,4))"
   ]
  },
  {
   "cell_type": "code",
   "execution_count": null,
   "metadata": {},
   "outputs": [],
   "source": [
    "# Example 3\n",
    "np.resize(a,(2,10))"
   ]
  },
  {
   "cell_type": "markdown",
   "metadata": {},
   "source": [
    "*NOTE*\n",
    "- When the total size of the array does not change reshape should be used. In most other cases either indexing (to reduce the size) or padding (to increase the size) may be a more appropriate solution."
   ]
  },
  {
   "cell_type": "code",
   "execution_count": null,
   "metadata": {},
   "outputs": [],
   "source": [
    "jovian.commit()"
   ]
  },
  {
   "cell_type": "markdown",
   "metadata": {},
   "source": [
    "## Function 4 - np.char.center( )\n",
    "\n",
    "- Syntax: char.center(a, width, fillchar=' ') - where:\n",
    "\n",
    "\n",
    "    + 'a' is array_like of str or unicode\n",
    "\n",
    "    + 'widthint' is the length of the resulting strings\n",
    "    \n",
    "    + 'fillcharstr' or unicode, is optional, is the padding character to use (default is space).\n",
    "\n",
    "\n",
    "- RETURN: np.char.center() will return a copy of a with its elements centered in a string of length width."
   ]
  },
  {
   "cell_type": "code",
   "execution_count": null,
   "metadata": {},
   "outputs": [],
   "source": [
    "# Example 1\n",
    "c = np.array(['a1b2','1b2a','b2a1','2a1b'])\n",
    "\n",
    "np.char.center(c, width=9)"
   ]
  },
  {
   "cell_type": "markdown",
   "metadata": {},
   "source": [
    "Explanation about example"
   ]
  },
  {
   "cell_type": "code",
   "execution_count": null,
   "metadata": {},
   "outputs": [],
   "source": [
    "# Example 2\n",
    "np.char.center(c, width=9, fillchar='*')"
   ]
  },
  {
   "cell_type": "markdown",
   "metadata": {},
   "source": [
    "Explanation about example"
   ]
  },
  {
   "cell_type": "code",
   "execution_count": null,
   "metadata": {},
   "outputs": [],
   "source": [
    "# Example 3\n",
    "c = np.array([0,1,2,3])\n",
    "np.char.center(c, width=1)"
   ]
  },
  {
   "cell_type": "code",
   "execution_count": null,
   "metadata": {},
   "outputs": [],
   "source": [
    "# To fix\n",
    "c = np.array([0,'1',2,3]) # now the array is array of strings\n",
    "\n",
    "np.char.center(c, width=1)"
   ]
  },
  {
   "cell_type": "markdown",
   "metadata": {},
   "source": [
    "This function is intended to work with arrays of strings. The fill character is not applied to numeric types."
   ]
  },
  {
   "cell_type": "code",
   "execution_count": null,
   "metadata": {},
   "outputs": [],
   "source": [
    "jovian.commit()"
   ]
  },
  {
   "cell_type": "markdown",
   "metadata": {},
   "source": [
    "## Function 5 - np.promote_type( )\n",
    "\n",
    "- Syntax: numpy.promote_types(type1, type2):\n",
    "\n",
    "\n",
    "    + 'type1dtype' or dtype specifier is the first data type.\n",
    "\n",
    "    + 'type2dtype' or dtype specifier is the second data type.\n",
    "\n",
    "\n",
    "- RETURN: np.promote_type() will return the data type with the smallest size and smallest scalar kind to which both type1 and type2 may be safely cast. The returned data type is always considered “canonical”, this mainly means that the promoted dtype will always be in native byte order."
   ]
  },
  {
   "cell_type": "code",
   "execution_count": null,
   "metadata": {},
   "outputs": [],
   "source": [
    "# Example 1 \n",
    "\n",
    "np.promote_types('f4', 'f8') # f4 is float32 and f8 is float64  "
   ]
  },
  {
   "cell_type": "markdown",
   "metadata": {},
   "source": [
    "f8 is float64 while f4 is float32. 64 bits contain 32 bits; thus, the result should be float64"
   ]
  },
  {
   "cell_type": "code",
   "execution_count": null,
   "metadata": {},
   "outputs": [],
   "source": [
    "# Example 2\n",
    "np.promote_types('i8', 'f4')"
   ]
  },
  {
   "cell_type": "markdown",
   "metadata": {},
   "source": [
    "Since i8 is int64, f4 is float32. and float contains integer and 64 bits contains 32 bits, so the result is int64"
   ]
  },
  {
   "cell_type": "code",
   "execution_count": null,
   "metadata": {},
   "outputs": [],
   "source": [
    "# Example 3 \n",
    "p = np.promote_types\n",
    "\n",
    "p('S', p('i1', 'u1'))"
   ]
  },
  {
   "cell_type": "markdown",
   "metadata": {},
   "source": [
    "Let break down the code above:\n",
    "- 'S' is the string type\n",
    "- 'i1' is the 8-bit signed integer type\n",
    "- 'u1' is the 8-bit unsigned integer type\n",
    "- p('i1', 'u1') returns 'i2' which is the 16-bit signed integer type\n",
    "- Therefore, p('S', 'i2') will return 'S' which is the string type as string is the highest type in the hierarchy\n",
    "\n",
    "*Side note*: S6 is the string type with 6 characters or 6 bits"
   ]
  },
  {
   "cell_type": "markdown",
   "metadata": {},
   "source": [
    "Be cautious about the data are being used. Please see 'numpy.result_type' for additional information about promotion."
   ]
  },
  {
   "cell_type": "code",
   "execution_count": null,
   "metadata": {},
   "outputs": [],
   "source": [
    "jovian.commit()"
   ]
  },
  {
   "cell_type": "markdown",
   "metadata": {},
   "source": [
    "## Conclusion\n",
    "\n",
    "- So, I have introduced some interesting functions which are deprived from NumPy library. In short, numpy is a python library used for working with arrays. It also has functions for working in domain of linear algebra, fourier transform, and matrices.\n",
    "\n",
    "- Numpy functions are functions that are used to perform mathematical operations on arrays. Numpy functions are used to perform mathematical operations on arrays. And they are mostly preffered when working with big data as numpy functions are faster than python functions.\n"
   ]
  },
  {
   "cell_type": "markdown",
   "metadata": {},
   "source": [
    "## Reference Links\n",
    "Provide links to your references and other interesting articles about Numpy arrays:\n",
    "* What is NumPy? https://numpy.org/doc/stable/user/whatisnumpy.html\n",
    "* Numpy official tutorial : https://numpy.org/doc/stable/user/quickstart.html\n"
   ]
  },
  {
   "cell_type": "code",
   "execution_count": null,
   "metadata": {},
   "outputs": [],
   "source": [
    "jovian.commit()"
   ]
  },
  {
   "cell_type": "code",
   "execution_count": null,
   "metadata": {},
   "outputs": [],
   "source": []
  }
 ],
 "metadata": {
  "kernelspec": {
   "display_name": "Python 3 (ipykernel)",
   "language": "python",
   "name": "python3"
  },
  "language_info": {
   "codemirror_mode": {
    "name": "ipython",
    "version": 3
   },
   "file_extension": ".py",
   "mimetype": "text/x-python",
   "name": "python",
   "nbconvert_exporter": "python",
   "pygments_lexer": "ipython3",
   "version": "3.9.7"
  }
 },
 "nbformat": 4,
 "nbformat_minor": 4
}
